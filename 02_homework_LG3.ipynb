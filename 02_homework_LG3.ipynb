{
  "cells": [
    {
      "cell_type": "markdown",
      "id": "76639b6d-da73-4e1e-8aaa-0070a2403485",
      "metadata": {
        "id": "76639b6d-da73-4e1e-8aaa-0070a2403485"
      },
      "source": [
        "[link text](https://)# Homework: Alternate Homework for LG3 Cohort\n",
        "\n",
        "## Instructions\n",
        "\n",
        "* Since we are a bit behind, I've created this homework specifically for the LG3 Cohort (10:30-12 PDT)\n",
        "* Take a look at the __`Variables`__ section of https://colab.research.google.com/github/Pluralsight-ILT/YUU-Learn-to-Code-Prework-Colab/blob/main/week-1/01-notebooks/02-session.ipynb\n",
        "* we will of course cover this in Monday's session, and ensure that it's clear, but for now see if you can do the following exercises\n",
        "* if you're confused about variables, feel free to reach out to me by email"
      ]
    },
    {
      "cell_type": "markdown",
      "source": [
        "## Exercise 1: Another algorithm\n",
        "* Write an algorithm (English steps) for determining if a particular item is in a list. For example, is 19 in the following list? What about 37?\n",
        "__`13, 9, -2, 4, -1, 19, 12, 7`__"
      ],
      "metadata": {
        "id": "iHkXp7puNTl3"
      },
      "id": "iHkXp7puNTl3"
    },
    {
      "cell_type": "markdown",
      "id": "1b3cec93-6b5b-4d78-81ab-17ab17b75a25",
      "metadata": {
        "id": "1b3cec93-6b5b-4d78-81ab-17ab17b75a25"
      },
      "source": [
        "### Exercise 2: Variables\n",
        "* Each question below describes some data to be manipulated (or processed) by a program. Your task is to choose appropriate variable names (and values) and create variables/expressions for these scenarios. You'll be writing assignment statements to create the variables, but you need write any other code yet, although you may if you wish write code to perform the computation.\n",
        "* For example, if you're writing a program to compute the tip on a meal (an algorithm we've talked about this a few times), you might have the following variables and values:\n",
        "  * __`bill_amount = 49.88`__\n",
        "  * __`tip_percentage = 20`__"
      ]
    },
    {
      "cell_type": "markdown",
      "id": "8a3f8bb8-024e-4645-b633-356db225d206",
      "metadata": {
        "id": "8a3f8bb8-024e-4645-b633-356db225d206"
      },
      "source": [
        "1. Determine the cost of some number of pounds of cement. Assume there is a sales tax that applies. (Again, as above, your job is to create the appropriate variables with assignment statements.)\n",
        "  "
      ]
    },
    {
      "cell_type": "code",
      "execution_count": null,
      "id": "d0fe743d-1acd-41a8-a0b9-92aedc8fc0a4",
      "metadata": {
        "id": "d0fe743d-1acd-41a8-a0b9-92aedc8fc0a4"
      },
      "outputs": [],
      "source": []
    },
    {
      "cell_type": "markdown",
      "id": "b1aa5351-43b1-401f-b15a-ecff2d4c393b",
      "metadata": {
        "id": "b1aa5351-43b1-401f-b15a-ecff2d4c393b"
      },
      "source": [
        "2. Given the cost of various containers of eggs (perhaps half a dozen, one dozen, and 1 1/2 dozen), determine the cost _per egg_ for each of those containers.\n",
        "  "
      ]
    },
    {
      "cell_type": "code",
      "execution_count": null,
      "id": "e757836e-1848-434f-9301-d41470770f49",
      "metadata": {
        "id": "e757836e-1848-434f-9301-d41470770f49"
      },
      "outputs": [],
      "source": []
    },
    {
      "cell_type": "markdown",
      "id": "192dfb2f-790e-4725-b201-3b803f4fc348",
      "metadata": {
        "id": "192dfb2f-790e-4725-b201-3b803f4fc348"
      },
      "source": [
        "3. Given an hourly wage and a number of hours worked, determine how much a worker should be paid for shoveling snow."
      ]
    },
    {
      "cell_type": "code",
      "execution_count": null,
      "id": "9f098469-0470-4a68-ba73-721bd6526c2c",
      "metadata": {
        "id": "9f098469-0470-4a68-ba73-721bd6526c2c"
      },
      "outputs": [],
      "source": []
    },
    {
      "cell_type": "markdown",
      "id": "3a702132-7720-45b3-97d6-6dc7d4fc1113",
      "metadata": {
        "id": "3a702132-7720-45b3-97d6-6dc7d4fc1113"
      },
      "source": [
        "### Exercise 3: Variables and Expressions\n",
        "\n",
        "  "
      ]
    },
    {
      "cell_type": "markdown",
      "id": "192e9f66-c2a7-4933-beaa-4666f57ac042",
      "metadata": {
        "id": "192e9f66-c2a7-4933-beaa-4666f57ac042"
      },
      "source": [
        "1. A normal work week is 40 hours and any hours worked beyond that is considered _overtime_. The variable below contains the number of hours worked by an employee. Add an assignment statement to the cell below to create the variable __`overtime_hours`__ and set it equal to the number of overtime hours worked. Your assignment statement should refer to the existing variable, __`hours_worked`__.\n",
        "\n",
        "  "
      ]
    },
    {
      "cell_type": "code",
      "execution_count": null,
      "id": "d99bbc14-4ab9-4cc2-abf4-0f847d4aa95c",
      "metadata": {
        "id": "d99bbc14-4ab9-4cc2-abf4-0f847d4aa95c"
      },
      "outputs": [],
      "source": [
        "hours_worked = 45"
      ]
    },
    {
      "cell_type": "markdown",
      "source": [
        "2. Create a variable __`pay_rate`__ which contains an hourly wage of your choosing."
      ],
      "metadata": {
        "id": "ERB-bS3QM6f4"
      },
      "id": "ERB-bS3QM6f4"
    },
    {
      "cell_type": "code",
      "source": [],
      "metadata": {
        "id": "ED5P6SY_M_eb"
      },
      "id": "ED5P6SY_M_eb",
      "execution_count": null,
      "outputs": []
    },
    {
      "cell_type": "markdown",
      "source": [
        "3. Write down the steps (algorithm) to compute the employee's pay for the week. Assume overtime hours are paid at 1.5 times the hourly rate."
      ],
      "metadata": {
        "id": "rVQvyt2AOlZr"
      },
      "id": "rVQvyt2AOlZr"
    },
    {
      "cell_type": "markdown",
      "source": [
        "4. Using the above algorithm, create a variable called __`gross_pay`__ which computes the employee's pay for the week."
      ],
      "metadata": {
        "id": "s8E2W970PtsR"
      },
      "id": "s8E2W970PtsR"
    },
    {
      "cell_type": "code",
      "source": [
        "gross_pay = ?"
      ],
      "metadata": {
        "id": "rUH-ZmU8PnWW"
      },
      "id": "rUH-ZmU8PnWW",
      "execution_count": null,
      "outputs": []
    }
  ],
  "metadata": {
    "kernelspec": {
      "display_name": "Python 3 (ipykernel)",
      "language": "python",
      "name": "python3"
    },
    "language_info": {
      "codemirror_mode": {
        "name": "ipython",
        "version": 3
      },
      "file_extension": ".py",
      "mimetype": "text/x-python",
      "name": "python",
      "nbconvert_exporter": "python",
      "pygments_lexer": "ipython3",
      "version": "3.13.1"
    },
    "colab": {
      "provenance": []
    }
  },
  "nbformat": 4,
  "nbformat_minor": 5
}